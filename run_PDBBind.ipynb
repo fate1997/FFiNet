{
 "cells": [
  {
   "cell_type": "markdown",
   "metadata": {},
   "source": [
    "## PDBBind preprocess"
   ]
  },
  {
   "cell_type": "code",
   "execution_count": null,
   "metadata": {},
   "outputs": [],
   "source": [
    "from data_pipeline.pdbbind_preprocess import PDBBindPreprocess, pdbbind_dataset_generate\n",
    "\n",
    "preprocess = PDBBindPreprocess(core_path='.\\data\\\\raw_files\\PDBbind2016\\core-set\\\\', \n",
    "                               refined_path='.\\data\\\\raw_files\\PDBbind2016\\\\refined-set\\\\')\n",
    "\n",
    "preprocess.mol2_to_pdb()\n",
    "preprocess.remove_hetatm()\n",
    "pdbbind_dataset_generate(core_path='.\\data\\\\raw_files\\PDBbind2016\\core-set\\\\', \n",
    "            refined_path='.\\data\\\\raw_files\\PDBbind2016\\\\refined-set\\\\', \n",
    "            pk_path='.\\data\\\\raw_files\\PDBbind2016\\\\INDEX_general_PL_data.2013', \n",
    "            save_path='.\\data\\\\raw_files\\PDBbind2016\\\\',)"
   ]
  },
  {
   "cell_type": "markdown",
   "metadata": {},
   "source": [
    "## Training"
   ]
  },
  {
   "cell_type": "code",
   "execution_count": null,
   "metadata": {},
   "outputs": [],
   "source": [
    "from train_evaluate.train_utils import TrainArgs\n",
    "from train_evaluate.train_graph import evaluate\n",
    "from models.FFiNet_model import FFiNetModel\n",
    "import torch.nn as nn\n",
    "\n",
    "train_args = TrainArgs(\n",
    "                lr=0.002, \n",
    "                model_save_path='.\\\\train_evaluate\\\\saved_models\\\\',\n",
    "                batch_size=128, \n",
    "                patience=250, \n",
    "                task='regression',\n",
    "                num_tasks=1,\n",
    "                normalize=False, \n",
    "                interval=10, \n",
    "                task_name=['pdbbind'], \n",
    "                metrics='RMSE', \n",
    "                save=True\n",
    "            )\n",
    "\n",
    "params = {\n",
    "    'hidden_dim': 16,\n",
    "    'hidden_layers': 3,\n",
    "    'num_heads': 8,\n",
    "    'activation': nn.PReLU(), \n",
    "    'dropout': 0.2,\n",
    "    'prediction_layers': 1 ,\n",
    "    'prediction_dropout': 0.1,\n",
    "    'prediction_hidden_dim': 256,\n",
    "}\n",
    "\n",
    "evaluate(3, \n",
    "        data_path='.\\data\\\\raw_files\\PDBbind2013\\pdbbind_refined_5A.pt', \n",
    "        model_class=FFiNetModel, \n",
    "        model_args=params, \n",
    "        train_args=train_args\n",
    "        )"
   ]
  }
 ],
 "metadata": {
  "kernelspec": {
   "display_name": "Python 3.8.12 ('rgp')",
   "language": "python",
   "name": "python3"
  },
  "language_info": {
   "codemirror_mode": {
    "name": "ipython",
    "version": 3
   },
   "file_extension": ".py",
   "mimetype": "text/x-python",
   "name": "python",
   "nbconvert_exporter": "python",
   "pygments_lexer": "ipython3",
   "version": "3.8.12"
  },
  "orig_nbformat": 4,
  "vscode": {
   "interpreter": {
    "hash": "fb9c94273e44eeb46fac613fd86a49d26680358b59983794c1a3a38a3ac04b4c"
   }
  }
 },
 "nbformat": 4,
 "nbformat_minor": 2
}
