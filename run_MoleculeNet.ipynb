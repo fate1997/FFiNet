{
 "cells": [
  {
   "cell_type": "markdown",
   "metadata": {},
   "source": [
    "## Define task"
   ]
  },
  {
   "cell_type": "code",
   "execution_count": 12,
   "metadata": {},
   "outputs": [],
   "source": [
    "import os\n",
    "import pandas as pd\n",
    "\n",
    "task = 'freesolv'\n",
    "assert task in ['delaney', 'lipo', 'freesolv', 'bace', 'bbbp', 'qm9']\n",
    "\n",
    "# define arguments\n",
    "folder = './data/'\n",
    "raw_dataset_name = 'gdb9.sdf' if task == 'qm9' else task + '.csv'\n",
    "feature_dict_name = 'feature_dict_' + task + '.npy'\n",
    "dataset_name = task + '.pt'\n",
    "\n",
    "# load labels and task_name\n",
    "if task != 'qm9':\n",
    "    raw_data_path = os.path.join(folder, 'raw_files', raw_dataset_name)\n",
    "    raw_file = pd.read_csv(raw_data_path)\n",
    "    target = raw_file.iloc[:, 1]\n",
    "    task_name = [raw_file.columns[1]]\n",
    "else:\n",
    "    raw_file = pd.read_csv(os.path.join(folder, 'raw_files', 'gdb9.sdf.csv'))\n",
    "    target = raw_file.iloc[:, 4:16]\n",
    "    names = raw_file.mol_id\n",
    "    target_dict = {}\n",
    "    for i, name in enumerate(names):\n",
    "        target_dict[name] = target.iloc[i, :]\n",
    "    task_name = raw_file.columns[4:16].to_list()"
   ]
  },
  {
   "cell_type": "markdown",
   "metadata": {},
   "source": [
    "## Data preparation"
   ]
  },
  {
   "cell_type": "code",
   "execution_count": null,
   "metadata": {},
   "outputs": [],
   "source": [
    "from data_pipeline.data_generating import DataGenerating\n",
    "\n",
    "# feature generation\n",
    "data_generate = DataGenerating(folder, raw_dataset_name, feature_dict_name, dataset_name)\n",
    "data_generate.features_generating()"
   ]
  },
  {
   "cell_type": "code",
   "execution_count": null,
   "metadata": {},
   "outputs": [],
   "source": [
    "# dataset creation\n",
    "data_generate.features_dict_exist = True\n",
    "data_generate.dataset_creating(target_name=target)"
   ]
  },
  {
   "cell_type": "markdown",
   "metadata": {},
   "source": [
    "## Training"
   ]
  },
  {
   "cell_type": "code",
   "execution_count": 16,
   "metadata": {},
   "outputs": [],
   "source": [
    "# define train_args\n",
    "from train_evaluate.train_utils import TrainArgs\n",
    "\n",
    "if task == 'qm9':\n",
    "    metrics = 'MAE'\n",
    "elif task in ['bbbp', 'bace']:\n",
    "    metrics = 'ROC-AUC'\n",
    "elif task in ['delaney', 'lipo', 'freesolv']:\n",
    "    metrics = 'RMSE'\n",
    "\n",
    "train_args = TrainArgs(\n",
    "                lr=0.002,\n",
    "                batch_size=128, \n",
    "                patience=500, \n",
    "                task='binary' if task in ['bace', 'bbbp'] else 'regression',\n",
    "                num_tasks=1 if task != 'qm9' else 12,\n",
    "                normalize=False if task != 'qm9' else True, \n",
    "                interval=10,  # log interval\n",
    "                task_name=task_name, \n",
    "                metrics=metrics, \n",
    "                save=True, # save results as csv files\n",
    "                logs=False # print model hyperparameters\n",
    "            )"
   ]
  },
  {
   "cell_type": "code",
   "execution_count": null,
   "metadata": {},
   "outputs": [],
   "source": [
    "from train_evaluate.train_graph import evaluate\n",
    "from models.FFiNet_model import FFiNetModel\n",
    "import torch.nn as nn\n",
    "\n",
    "\n",
    "params = {\n",
    "    'hidden_dim': 16,\n",
    "    'hidden_layers': 2,\n",
    "    'num_heads': 8,\n",
    "    'activation': nn.PReLU(), \n",
    "    'dropout': 0.2,\n",
    "    'prediction_layers': 1,\n",
    "    'prediction_dropout': 0.1,\n",
    "    'prediction_hidden_dim': 256,\n",
    "}\n",
    "\n",
    "evaluate(3, \n",
    "        data_path=os.path.join('./data', dataset_name), \n",
    "        model_class=FFiNetModel, \n",
    "        model_args=params, \n",
    "        train_args=train_args\n",
    "        )"
   ]
  }
 ],
 "metadata": {
  "kernelspec": {
   "display_name": "Python 3.8.12 ('rgp')",
   "language": "python",
   "name": "python3"
  },
  "language_info": {
   "codemirror_mode": {
    "name": "ipython",
    "version": 3
   },
   "file_extension": ".py",
   "mimetype": "text/x-python",
   "name": "python",
   "nbconvert_exporter": "python",
   "pygments_lexer": "ipython3",
   "version": "3.8.12"
  },
  "orig_nbformat": 4,
  "vscode": {
   "interpreter": {
    "hash": "fb9c94273e44eeb46fac613fd86a49d26680358b59983794c1a3a38a3ac04b4c"
   }
  }
 },
 "nbformat": 4,
 "nbformat_minor": 2
}
